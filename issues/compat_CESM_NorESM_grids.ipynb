{
 "cells": [
  {
   "cell_type": "code",
   "execution_count": null,
   "id": "6e3aebd6-aeb7-4b06-b2c7-19c97a1c0aec",
   "metadata": {},
   "outputs": [],
   "source": [
    "test"
   ]
  },
  {
   "cell_type": "markdown",
   "id": "3fea8c09-bc5f-4655-b0f3-a4e7793450cb",
   "metadata": {},
   "source": [
    "# Reproducible Test\n",
    "test\n",
    "\n",
    "# Patch\n",
    "patches/patch.py"
   ]
  },
  {
   "cell_type": "code",
   "execution_count": null,
   "id": "d0ac2d5c-9a0a-4fb9-83b8-5bd6560b998e",
   "metadata": {},
   "outputs": [],
   "source": []
  }
 ],
 "metadata": {
  "kernelspec": {
   "display_name": "Python 3 (ipykernel)",
   "language": "python",
   "name": "python3"
  },
  "language_info": {
   "codemirror_mode": {
    "name": "ipython",
    "version": 3
   },
   "file_extension": ".py",
   "mimetype": "text/x-python",
   "name": "python",
   "nbconvert_exporter": "python",
   "pygments_lexer": "ipython3",
   "version": "3.12.4"
  }
 },
 "nbformat": 4,
 "nbformat_minor": 5
}
